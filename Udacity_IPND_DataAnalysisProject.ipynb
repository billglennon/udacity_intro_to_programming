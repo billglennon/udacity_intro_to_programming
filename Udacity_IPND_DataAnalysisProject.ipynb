{
 "cells": [
  {
   "cell_type": "markdown",
   "metadata": {},
   "source": [
    "# Project - Looking at No-shows Appointments Data\n",
    "\n",
    "The data set that is being explored is the No-Show Appointments.\n",
    "\n",
    "This dataset collects information from 100k medical appointments in Brazil and is focused on the question of whether or not patients show up for their appointment. A number of characteristics about the patient are included in each row.\n",
    "\n",
    "The original source is from Kaggle.\n",
    "https://www.kaggle.com/joniarroba/noshowappointments\n",
    "\n",
    "\n",
    "## Looking at the what variables are related to no-show appointments\n",
    "<br>\n",
    "(1) Age distribution visualization\n",
    "<br>\n",
    "(2) Does texting decrease no-shows?\n",
    "<br>\n",
    "(3) Who visits the the doctor more (men or women)?\n",
    "<br>\n",
    "(4) Are Scholarship (Brazilian welfare) patients higher no-shows?\n",
    "<br>\n",
    "(5) Appointments Scheduled by Day of Week\n",
    "\n",
    "<b>Creator: Bill Glennon\n",
    "<br>\n",
    "<b>Date: April 14, 2018"
   ]
  },
  {
   "cell_type": "markdown",
   "metadata": {},
   "source": [
    "# Outline\n",
    "\n",
    "## 1. Environment Preparation\n",
    "\n",
    "## 2. Data Wrangling\n",
    "\n",
    "## 3. Variable Data Analysis  \n",
    "   a. Age distribution visualization\n",
    "   <br>\n",
    "   b. Analysis of the Data\n",
    "   <br>\n",
    "   <br>\n",
    "   c. Texting\n",
    "   <br>\n",
    "   d. Analysis of the Data\n",
    "   <br>\n",
    "   <br>\n",
    "   e. Men or women visit the doctor more?\n",
    "   <br>\n",
    "   f. Analysis of the Data\n",
    "   <br>\n",
    "   <br>\n",
    "   g. Sholarship (Brazilain Welfare)\n",
    "   <br>\n",
    "   h. Analysis of the Data\n",
    "   <br>\n",
    "   <br>\n",
    "   i. Appointments Scheduled by Day of Week\n",
    "   <br>\n",
    "   j. Analysis of the Data\n",
    "   <br>\n",
    "   \n",
    " ## 4. Conclusions\n",
    " \n",
    " ## 5. Resources\n",
    "   "
   ]
  },
  {
   "cell_type": "code",
   "execution_count": null,
   "metadata": {},
   "outputs": [],
   "source": []
  },
  {
   "cell_type": "markdown",
   "metadata": {},
   "source": [
    "# 1. Environment Preparation"
   ]
  },
  {
   "cell_type": "code",
   "execution_count": 1,
   "metadata": {},
   "outputs": [],
   "source": [
    "# import required packages\n",
    "import matplotlib.pyplot as plt\n",
    "import numpy as np\n",
    "import pandas as pd\n",
    "import seaborn as sns\n",
    "import warnings\n",
    "warnings.filterwarnings('ignore')\n",
    "%matplotlib inline\n",
    "\n",
    "# https://www.kaggle.com/somrikbanerjee/predicting-show-up-no-show\n"
   ]
  },
  {
   "cell_type": "code",
   "execution_count": 2,
   "metadata": {},
   "outputs": [],
   "source": [
    "# Read in the data file\n",
    "noshows_df = pd.read_csv('noshowappointments-kagglev2-may-2016.csv')\n"
   ]
  },
  {
   "cell_type": "code",
   "execution_count": 3,
   "metadata": {},
   "outputs": [
    {
     "data": {
      "text/plain": [
       "(110527, 14)"
      ]
     },
     "execution_count": 3,
     "metadata": {},
     "output_type": "execute_result"
    }
   ],
   "source": [
    "# See number of rows and columns\n",
    "noshows_df.shape\n"
   ]
  },
  {
   "cell_type": "code",
   "execution_count": null,
   "metadata": {},
   "outputs": [],
   "source": []
  },
  {
   "cell_type": "markdown",
   "metadata": {},
   "source": [
    "# 2. Data Wrangling"
   ]
  },
  {
   "cell_type": "code",
   "execution_count": 4,
   "metadata": {
    "scrolled": true
   },
   "outputs": [
    {
     "name": "stdout",
     "output_type": "stream",
     "text": [
      "<class 'pandas.core.frame.DataFrame'>\n",
      "RangeIndex: 110527 entries, 0 to 110526\n",
      "Data columns (total 14 columns):\n",
      "PatientId         110527 non-null float64\n",
      "AppointmentID     110527 non-null int64\n",
      "Gender            110527 non-null object\n",
      "ScheduledDay      110527 non-null object\n",
      "AppointmentDay    110527 non-null object\n",
      "Age               110527 non-null int64\n",
      "Neighbourhood     110527 non-null object\n",
      "Scholarship       110527 non-null int64\n",
      "Hipertension      110527 non-null int64\n",
      "Diabetes          110527 non-null int64\n",
      "Alcoholism        110527 non-null int64\n",
      "Handcap           110527 non-null int64\n",
      "SMS_received      110527 non-null int64\n",
      "No-show           110527 non-null object\n",
      "dtypes: float64(1), int64(8), object(5)\n",
      "memory usage: 11.8+ MB\n"
     ]
    }
   ],
   "source": [
    "# get info on the file e.g. data types and counts\n",
    "noshows_df.info()\n"
   ]
  },
  {
   "cell_type": "code",
   "execution_count": 5,
   "metadata": {},
   "outputs": [],
   "source": [
    "# Fix typos of column names or to names I like\n",
    "noshows_df = noshows_df.rename(columns={'Hipertension': 'Hypertension', 'No-show': 'Status', 'Handcap': 'Handicap', 'SMS_received': 'Text'})\n"
   ]
  },
  {
   "cell_type": "code",
   "execution_count": 6,
   "metadata": {},
   "outputs": [
    {
     "data": {
      "text/html": [
       "<div>\n",
       "<style scoped>\n",
       "    .dataframe tbody tr th:only-of-type {\n",
       "        vertical-align: middle;\n",
       "    }\n",
       "\n",
       "    .dataframe tbody tr th {\n",
       "        vertical-align: top;\n",
       "    }\n",
       "\n",
       "    .dataframe thead th {\n",
       "        text-align: right;\n",
       "    }\n",
       "</style>\n",
       "<table border=\"1\" class=\"dataframe\">\n",
       "  <thead>\n",
       "    <tr style=\"text-align: right;\">\n",
       "      <th></th>\n",
       "      <th>PatientId</th>\n",
       "      <th>AppointmentID</th>\n",
       "      <th>Gender</th>\n",
       "      <th>ScheduledDay</th>\n",
       "      <th>AppointmentDay</th>\n",
       "      <th>Age</th>\n",
       "      <th>Neighbourhood</th>\n",
       "      <th>Scholarship</th>\n",
       "      <th>Hypertension</th>\n",
       "      <th>Diabetes</th>\n",
       "      <th>Alcoholism</th>\n",
       "      <th>Handicap</th>\n",
       "      <th>Text</th>\n",
       "      <th>Status</th>\n",
       "    </tr>\n",
       "  </thead>\n",
       "  <tbody>\n",
       "    <tr>\n",
       "      <th>0</th>\n",
       "      <td>2.987250e+13</td>\n",
       "      <td>5642903</td>\n",
       "      <td>F</td>\n",
       "      <td>2016-04-29T18:38:08Z</td>\n",
       "      <td>2016-04-29T00:00:00Z</td>\n",
       "      <td>62</td>\n",
       "      <td>JARDIM DA PENHA</td>\n",
       "      <td>0</td>\n",
       "      <td>1</td>\n",
       "      <td>0</td>\n",
       "      <td>0</td>\n",
       "      <td>0</td>\n",
       "      <td>0</td>\n",
       "      <td>No</td>\n",
       "    </tr>\n",
       "    <tr>\n",
       "      <th>1</th>\n",
       "      <td>5.589978e+14</td>\n",
       "      <td>5642503</td>\n",
       "      <td>M</td>\n",
       "      <td>2016-04-29T16:08:27Z</td>\n",
       "      <td>2016-04-29T00:00:00Z</td>\n",
       "      <td>56</td>\n",
       "      <td>JARDIM DA PENHA</td>\n",
       "      <td>0</td>\n",
       "      <td>0</td>\n",
       "      <td>0</td>\n",
       "      <td>0</td>\n",
       "      <td>0</td>\n",
       "      <td>0</td>\n",
       "      <td>No</td>\n",
       "    </tr>\n",
       "    <tr>\n",
       "      <th>2</th>\n",
       "      <td>4.262962e+12</td>\n",
       "      <td>5642549</td>\n",
       "      <td>F</td>\n",
       "      <td>2016-04-29T16:19:04Z</td>\n",
       "      <td>2016-04-29T00:00:00Z</td>\n",
       "      <td>62</td>\n",
       "      <td>MATA DA PRAIA</td>\n",
       "      <td>0</td>\n",
       "      <td>0</td>\n",
       "      <td>0</td>\n",
       "      <td>0</td>\n",
       "      <td>0</td>\n",
       "      <td>0</td>\n",
       "      <td>No</td>\n",
       "    </tr>\n",
       "    <tr>\n",
       "      <th>3</th>\n",
       "      <td>8.679512e+11</td>\n",
       "      <td>5642828</td>\n",
       "      <td>F</td>\n",
       "      <td>2016-04-29T17:29:31Z</td>\n",
       "      <td>2016-04-29T00:00:00Z</td>\n",
       "      <td>8</td>\n",
       "      <td>PONTAL DE CAMBURI</td>\n",
       "      <td>0</td>\n",
       "      <td>0</td>\n",
       "      <td>0</td>\n",
       "      <td>0</td>\n",
       "      <td>0</td>\n",
       "      <td>0</td>\n",
       "      <td>No</td>\n",
       "    </tr>\n",
       "    <tr>\n",
       "      <th>4</th>\n",
       "      <td>8.841186e+12</td>\n",
       "      <td>5642494</td>\n",
       "      <td>F</td>\n",
       "      <td>2016-04-29T16:07:23Z</td>\n",
       "      <td>2016-04-29T00:00:00Z</td>\n",
       "      <td>56</td>\n",
       "      <td>JARDIM DA PENHA</td>\n",
       "      <td>0</td>\n",
       "      <td>1</td>\n",
       "      <td>1</td>\n",
       "      <td>0</td>\n",
       "      <td>0</td>\n",
       "      <td>0</td>\n",
       "      <td>No</td>\n",
       "    </tr>\n",
       "  </tbody>\n",
       "</table>\n",
       "</div>"
      ],
      "text/plain": [
       "      PatientId  AppointmentID Gender          ScheduledDay  \\\n",
       "0  2.987250e+13        5642903      F  2016-04-29T18:38:08Z   \n",
       "1  5.589978e+14        5642503      M  2016-04-29T16:08:27Z   \n",
       "2  4.262962e+12        5642549      F  2016-04-29T16:19:04Z   \n",
       "3  8.679512e+11        5642828      F  2016-04-29T17:29:31Z   \n",
       "4  8.841186e+12        5642494      F  2016-04-29T16:07:23Z   \n",
       "\n",
       "         AppointmentDay  Age      Neighbourhood  Scholarship  Hypertension  \\\n",
       "0  2016-04-29T00:00:00Z   62    JARDIM DA PENHA            0             1   \n",
       "1  2016-04-29T00:00:00Z   56    JARDIM DA PENHA            0             0   \n",
       "2  2016-04-29T00:00:00Z   62      MATA DA PRAIA            0             0   \n",
       "3  2016-04-29T00:00:00Z    8  PONTAL DE CAMBURI            0             0   \n",
       "4  2016-04-29T00:00:00Z   56    JARDIM DA PENHA            0             1   \n",
       "\n",
       "   Diabetes  Alcoholism  Handicap  Text Status  \n",
       "0         0           0         0     0     No  \n",
       "1         0           0         0     0     No  \n",
       "2         0           0         0     0     No  \n",
       "3         0           0         0     0     No  \n",
       "4         1           0         0     0     No  "
      ]
     },
     "execution_count": 6,
     "metadata": {},
     "output_type": "execute_result"
    }
   ],
   "source": [
    "# Take a look at the data \n",
    "noshows_df.head()\n"
   ]
  },
  {
   "cell_type": "code",
   "execution_count": 7,
   "metadata": {},
   "outputs": [],
   "source": [
    "# I would like to add day of week to the DataFrame in case I want to do analysis on day of week. \n",
    "#You need to convert ScheduledDay to a datetime type\n",
    "noshows_df['ScheduledDay'] = pd.to_datetime(noshows_df['ScheduledDay'])\n",
    "noshows_df['day_of_week'] = noshows_df['ScheduledDay'].dt.weekday_name\n"
   ]
  },
  {
   "cell_type": "code",
   "execution_count": 8,
   "metadata": {},
   "outputs": [
    {
     "name": "stdout",
     "output_type": "stream",
     "text": [
      "Index([u'PatientId', u'AppointmentID', u'Gender', u'ScheduledDay',\n",
      "       u'AppointmentDay', u'Age', u'Neighbourhood', u'Scholarship',\n",
      "       u'Hypertension', u'Diabetes', u'Alcoholism', u'Handicap', u'Text',\n",
      "       u'Status', u'day_of_week'],\n",
      "      dtype='object')\n"
     ]
    }
   ],
   "source": [
    "# Show the  columns\n",
    "print noshows_df.columns\n"
   ]
  },
  {
   "cell_type": "code",
   "execution_count": 9,
   "metadata": {},
   "outputs": [
    {
     "data": {
      "text/html": [
       "<div>\n",
       "<style scoped>\n",
       "    .dataframe tbody tr th:only-of-type {\n",
       "        vertical-align: middle;\n",
       "    }\n",
       "\n",
       "    .dataframe tbody tr th {\n",
       "        vertical-align: top;\n",
       "    }\n",
       "\n",
       "    .dataframe thead th {\n",
       "        text-align: right;\n",
       "    }\n",
       "</style>\n",
       "<table border=\"1\" class=\"dataframe\">\n",
       "  <thead>\n",
       "    <tr style=\"text-align: right;\">\n",
       "      <th></th>\n",
       "      <th>PatientId</th>\n",
       "      <th>AppointmentID</th>\n",
       "      <th>Gender</th>\n",
       "      <th>ScheduledDay</th>\n",
       "      <th>AppointmentDay</th>\n",
       "      <th>Age</th>\n",
       "      <th>Neighbourhood</th>\n",
       "      <th>Scholarship</th>\n",
       "      <th>Hypertension</th>\n",
       "      <th>Diabetes</th>\n",
       "      <th>Alcoholism</th>\n",
       "      <th>Handicap</th>\n",
       "      <th>Text</th>\n",
       "      <th>Status</th>\n",
       "      <th>day_of_week</th>\n",
       "    </tr>\n",
       "  </thead>\n",
       "  <tbody>\n",
       "    <tr>\n",
       "      <th>0</th>\n",
       "      <td>2.987250e+13</td>\n",
       "      <td>5642903</td>\n",
       "      <td>F</td>\n",
       "      <td>2016-04-29 18:38:08</td>\n",
       "      <td>2016-04-29T00:00:00Z</td>\n",
       "      <td>62</td>\n",
       "      <td>JARDIM DA PENHA</td>\n",
       "      <td>0</td>\n",
       "      <td>1</td>\n",
       "      <td>0</td>\n",
       "      <td>0</td>\n",
       "      <td>0</td>\n",
       "      <td>0</td>\n",
       "      <td>No</td>\n",
       "      <td>Friday</td>\n",
       "    </tr>\n",
       "    <tr>\n",
       "      <th>1</th>\n",
       "      <td>5.589978e+14</td>\n",
       "      <td>5642503</td>\n",
       "      <td>M</td>\n",
       "      <td>2016-04-29 16:08:27</td>\n",
       "      <td>2016-04-29T00:00:00Z</td>\n",
       "      <td>56</td>\n",
       "      <td>JARDIM DA PENHA</td>\n",
       "      <td>0</td>\n",
       "      <td>0</td>\n",
       "      <td>0</td>\n",
       "      <td>0</td>\n",
       "      <td>0</td>\n",
       "      <td>0</td>\n",
       "      <td>No</td>\n",
       "      <td>Friday</td>\n",
       "    </tr>\n",
       "    <tr>\n",
       "      <th>2</th>\n",
       "      <td>4.262962e+12</td>\n",
       "      <td>5642549</td>\n",
       "      <td>F</td>\n",
       "      <td>2016-04-29 16:19:04</td>\n",
       "      <td>2016-04-29T00:00:00Z</td>\n",
       "      <td>62</td>\n",
       "      <td>MATA DA PRAIA</td>\n",
       "      <td>0</td>\n",
       "      <td>0</td>\n",
       "      <td>0</td>\n",
       "      <td>0</td>\n",
       "      <td>0</td>\n",
       "      <td>0</td>\n",
       "      <td>No</td>\n",
       "      <td>Friday</td>\n",
       "    </tr>\n",
       "    <tr>\n",
       "      <th>3</th>\n",
       "      <td>8.679512e+11</td>\n",
       "      <td>5642828</td>\n",
       "      <td>F</td>\n",
       "      <td>2016-04-29 17:29:31</td>\n",
       "      <td>2016-04-29T00:00:00Z</td>\n",
       "      <td>8</td>\n",
       "      <td>PONTAL DE CAMBURI</td>\n",
       "      <td>0</td>\n",
       "      <td>0</td>\n",
       "      <td>0</td>\n",
       "      <td>0</td>\n",
       "      <td>0</td>\n",
       "      <td>0</td>\n",
       "      <td>No</td>\n",
       "      <td>Friday</td>\n",
       "    </tr>\n",
       "    <tr>\n",
       "      <th>4</th>\n",
       "      <td>8.841186e+12</td>\n",
       "      <td>5642494</td>\n",
       "      <td>F</td>\n",
       "      <td>2016-04-29 16:07:23</td>\n",
       "      <td>2016-04-29T00:00:00Z</td>\n",
       "      <td>56</td>\n",
       "      <td>JARDIM DA PENHA</td>\n",
       "      <td>0</td>\n",
       "      <td>1</td>\n",
       "      <td>1</td>\n",
       "      <td>0</td>\n",
       "      <td>0</td>\n",
       "      <td>0</td>\n",
       "      <td>No</td>\n",
       "      <td>Friday</td>\n",
       "    </tr>\n",
       "  </tbody>\n",
       "</table>\n",
       "</div>"
      ],
      "text/plain": [
       "      PatientId  AppointmentID Gender        ScheduledDay  \\\n",
       "0  2.987250e+13        5642903      F 2016-04-29 18:38:08   \n",
       "1  5.589978e+14        5642503      M 2016-04-29 16:08:27   \n",
       "2  4.262962e+12        5642549      F 2016-04-29 16:19:04   \n",
       "3  8.679512e+11        5642828      F 2016-04-29 17:29:31   \n",
       "4  8.841186e+12        5642494      F 2016-04-29 16:07:23   \n",
       "\n",
       "         AppointmentDay  Age      Neighbourhood  Scholarship  Hypertension  \\\n",
       "0  2016-04-29T00:00:00Z   62    JARDIM DA PENHA            0             1   \n",
       "1  2016-04-29T00:00:00Z   56    JARDIM DA PENHA            0             0   \n",
       "2  2016-04-29T00:00:00Z   62      MATA DA PRAIA            0             0   \n",
       "3  2016-04-29T00:00:00Z    8  PONTAL DE CAMBURI            0             0   \n",
       "4  2016-04-29T00:00:00Z   56    JARDIM DA PENHA            0             1   \n",
       "\n",
       "   Diabetes  Alcoholism  Handicap  Text Status day_of_week  \n",
       "0         0           0         0     0     No      Friday  \n",
       "1         0           0         0     0     No      Friday  \n",
       "2         0           0         0     0     No      Friday  \n",
       "3         0           0         0     0     No      Friday  \n",
       "4         1           0         0     0     No      Friday  "
      ]
     },
     "execution_count": 9,
     "metadata": {},
     "output_type": "execute_result"
    }
   ],
   "source": [
    "# Take a look at a few records\n",
    "noshows_df.head()\n"
   ]
  },
  {
   "cell_type": "code",
   "execution_count": 10,
   "metadata": {},
   "outputs": [
    {
     "name": "stdout",
     "output_type": "stream",
     "text": [
      "('Gender:', ['F', 'M'])\n",
      "\n",
      "('Age:', [-1, 0, 1, 2, 3, 4, 5, 6, 7, 8, 9, 10, 11, 12, 13, 14, 15, 16, 17, 18, 19, 20, 21, 22, 23, 24, 25, 26, 27, 28, 29, 30, 31, 32, 33, 34, 35, 36, 37, 38, 39, 40, 41, 42, 43, 44, 45, 46, 47, 48, 49, 50, 51, 52, 53, 54, 55, 56, 57, 58, 59, 60, 61, 62, 63, 64, 65, 66, 67, 68, 69, 70, 71, 72, 73, 74, 75, 76, 77, 78, 79, 80, 81, 82, 83, 84, 85, 86, 87, 88, 89, 90, 91, 92, 93, 94, 95, 96, 97, 98, 99, 100, 102, 115])\n",
      "\n",
      "('Scholarship:', [0, 1])\n",
      "\n",
      "('Hypertension:', [0, 1])\n",
      "\n",
      "('Diabetes:', [0, 1])\n",
      "\n",
      "('Alcoholism:', [0, 1])\n",
      "\n",
      "('Handicap:', [0, 1, 2, 3, 4])\n",
      "\n",
      "('Text Sent:', [0, 1])\n",
      "\n",
      "('Status:', ['No', 'Yes'])\n",
      "\n",
      "('Day of Week:', ['Friday', 'Monday', 'Saturday', 'Thursday', 'Tuesday', 'Wednesday'])\n"
     ]
    }
   ],
   "source": [
    "# Take a look at the data and see if you see any outliers\n",
    "\n",
    "print('Gender:',sorted(noshows_df.Gender.unique()))\n",
    "print('')\n",
    "print('Age:',sorted(noshows_df.Age.unique()))\n",
    "print('')\n",
    "print('Scholarship:',sorted(noshows_df.Scholarship.unique()))\n",
    "print('')\n",
    "print('Hypertension:',sorted(noshows_df.Hypertension.unique()))\n",
    "print('')\n",
    "print('Diabetes:',sorted(noshows_df.Diabetes.unique()))\n",
    "print('')\n",
    "print('Alcoholism:',sorted(noshows_df.Alcoholism.unique()))\n",
    "print('')\n",
    "print('Handicap:',sorted(noshows_df.Handicap.unique()))\n",
    "print('')\n",
    "print('Text Sent:',sorted(noshows_df.Text.unique()))\n",
    "print('')\n",
    "print('Status:',sorted(noshows_df.Status.unique()))\n",
    "print('')\n",
    "print('Day of Week:',sorted(noshows_df.day_of_week.unique()))\n"
   ]
  },
  {
   "cell_type": "code",
   "execution_count": 11,
   "metadata": {},
   "outputs": [],
   "source": [
    "# Clean up Age Remove negative age -1 and keep the data set between 1 and 99\n",
    "noshows_df = noshows_df[(noshows_df.Age >= 1) & (noshows_df.Age <= 99)]\n"
   ]
  },
  {
   "cell_type": "code",
   "execution_count": 12,
   "metadata": {},
   "outputs": [
    {
     "data": {
      "text/plain": [
       "(106976, 15)"
      ]
     },
     "execution_count": 12,
     "metadata": {},
     "output_type": "execute_result"
    }
   ],
   "source": [
    "# Number of rows and columns were (110527, 14) before data wrangling\n",
    "# Removed rows that had ages =< 0 and > 99\n",
    "# Added column day_of_week\n",
    "noshows_df.shape\n"
   ]
  },
  {
   "cell_type": "code",
   "execution_count": 13,
   "metadata": {},
   "outputs": [
    {
     "data": {
      "text/plain": [
       "Status\n",
       "No     85299\n",
       "Yes    21677\n",
       "dtype: int64"
      ]
     },
     "execution_count": 13,
     "metadata": {},
     "output_type": "execute_result"
    }
   ],
   "source": [
    "# Counts of no shows - Yes is the number of no shows\n",
    "noshows_df.groupby('Status').size()\n"
   ]
  },
  {
   "cell_type": "code",
   "execution_count": 14,
   "metadata": {},
   "outputs": [
    {
     "data": {
      "image/png": "[encoded data removed]",
      "text/plain": [
       "<Figure size 432x288 with 1 Axes>"
      ]
     },
     "metadata": {},
     "output_type": "display_data"
    }
   ],
   "source": [
    "# Plot the no-show (Status) colun\n",
    "# Yes is the number of no-shows\n",
    "my_plot = noshows_df['Status'].value_counts().plot(kind='bar',title=\"Counts of No-shows (Yes) and Shows (No)\")\n",
    "my_plot.set_xlabel(\"Status\")\n",
    "plt.xticks(rotation=0)\n",
    "my_plot.set_ylabel(\"Count\")\n",
    "plt.show()\n"
   ]
  },
  {
   "cell_type": "markdown",
   "metadata": {},
   "source": [
    "# Analysis\n",
    "\n",
    "About 20 percent (22,316/110,515) are no-shows."
   ]
  },
  {
   "cell_type": "code",
   "execution_count": null,
   "metadata": {},
   "outputs": [],
   "source": []
  },
  {
   "cell_type": "markdown",
   "metadata": {},
   "source": [
    "# 3. Variable Data Analysis"
   ]
  },
  {
   "cell_type": "code",
   "execution_count": null,
   "metadata": {},
   "outputs": [],
   "source": []
  },
  {
   "cell_type": "markdown",
   "metadata": {},
   "source": [
    "# Analysis (1) Age distribution visualization "
   ]
  },
  {
   "cell_type": "code",
   "execution_count": 15,
   "metadata": {},
   "outputs": [
    {
     "data": {
      "image/png": "[encoded data removed]",
      "text/plain": [
       "<Figure size 432x288 with 1 Axes>"
      ]
     },
     "metadata": {},
     "output_type": "display_data"
    }
   ],
   "source": [
    "# Visualizatiion of age distribution\n",
    "\n",
    "sns.set_style(\"darkgrid\")\n",
    "bins = [0,2,6,12,18,40,65,99]\n",
    "labels=[\"0-2\",\"2-6\",\"6-12\",\"12-18\",\"18-40\", \"40-65\",\"66-99\"]\n",
    "\n",
    "age_cat = pd.cut(noshows_df.Age,bins,labels=labels)\n",
    "noshows_df['Age_cat'] = age_cat\n",
    "\n",
    "groups = noshows_df.groupby(['Age_cat'])\n",
    "gps = groups.size()\n",
    "age_dist = sns.barplot(x=gps.index.tolist(), y=gps.values)\n",
    "age_dist.set(xlabel = 'Age', ylabel = 'Count')\n",
    "plt.show()\n"
   ]
  },
  {
   "cell_type": "markdown",
   "metadata": {},
   "source": [
    "# Recap of  Analysis (1) Age distribution visualization "
   ]
  },
  {
   "cell_type": "markdown",
   "metadata": {},
   "source": [
    "The highest percentage of patients is between the age of 40 to 65. The majority of patients are between ages 18 and 65."
   ]
  },
  {
   "cell_type": "code",
   "execution_count": null,
   "metadata": {},
   "outputs": [],
   "source": []
  },
  {
   "cell_type": "markdown",
   "metadata": {},
   "source": [
    "# Analysis (2) Does texting decrease no-shows? "
   ]
  },
  {
   "cell_type": "code",
   "execution_count": 16,
   "metadata": {},
   "outputs": [
    {
     "data": {
      "text/plain": [
       "Text\n",
       "0    72393\n",
       "1    34583\n",
       "dtype: int64"
      ]
     },
     "execution_count": 16,
     "metadata": {},
     "output_type": "execute_result"
    }
   ],
   "source": [
    "# Look at the number of patients texted\n",
    "noshows_df.groupby(['Text']).size()\n"
   ]
  },
  {
   "cell_type": "code",
   "execution_count": 17,
   "metadata": {},
   "outputs": [
    {
     "data": {
      "text/plain": [
       "Text  Status\n",
       "0     No        60284\n",
       "      Yes       12109\n",
       "1     No        25015\n",
       "      Yes        9568\n",
       "dtype: int64"
      ]
     },
     "execution_count": 17,
     "metadata": {},
     "output_type": "execute_result"
    }
   ],
   "source": [
    "# Look at texting and no-shows\n",
    "noshows_df.groupby(['Text', 'Status']).size()\n"
   ]
  },
  {
   "cell_type": "code",
   "execution_count": 18,
   "metadata": {},
   "outputs": [
    {
     "data": {
      "text/html": [
       "<div>\n",
       "<style scoped>\n",
       "    .dataframe tbody tr th:only-of-type {\n",
       "        vertical-align: middle;\n",
       "    }\n",
       "\n",
       "    .dataframe tbody tr th {\n",
       "        vertical-align: top;\n",
       "    }\n",
       "\n",
       "    .dataframe thead th {\n",
       "        text-align: right;\n",
       "    }\n",
       "</style>\n",
       "<table border=\"1\" class=\"dataframe\">\n",
       "  <thead>\n",
       "    <tr style=\"text-align: right;\">\n",
       "      <th>Status</th>\n",
       "      <th>No</th>\n",
       "      <th>Yes</th>\n",
       "      <th>All</th>\n",
       "    </tr>\n",
       "    <tr>\n",
       "      <th>Text</th>\n",
       "      <th></th>\n",
       "      <th></th>\n",
       "      <th></th>\n",
       "    </tr>\n",
       "  </thead>\n",
       "  <tbody>\n",
       "    <tr>\n",
       "      <th>0</th>\n",
       "      <td>60284</td>\n",
       "      <td>12109</td>\n",
       "      <td>72393</td>\n",
       "    </tr>\n",
       "    <tr>\n",
       "      <th>1</th>\n",
       "      <td>25015</td>\n",
       "      <td>9568</td>\n",
       "      <td>34583</td>\n",
       "    </tr>\n",
       "    <tr>\n",
       "      <th>All</th>\n",
       "      <td>85299</td>\n",
       "      <td>21677</td>\n",
       "      <td>106976</td>\n",
       "    </tr>\n",
       "  </tbody>\n",
       "</table>\n",
       "</div>"
      ],
      "text/plain": [
       "Status     No    Yes     All\n",
       "Text                        \n",
       "0       60284  12109   72393\n",
       "1       25015   9568   34583\n",
       "All     85299  21677  106976"
      ]
     },
     "execution_count": 18,
     "metadata": {},
     "output_type": "execute_result"
    }
   ],
   "source": [
    "# Get an initial feel of the data with crosstab\n",
    "pd.crosstab(noshows_df[\"Text\"], noshows_df[\"Status\"],margins=True)\n"
   ]
  },
  {
   "cell_type": "code",
   "execution_count": 19,
   "metadata": {},
   "outputs": [
    {
     "data": {
      "text/html": [
       "<div>\n",
       "<style scoped>\n",
       "    .dataframe tbody tr th:only-of-type {\n",
       "        vertical-align: middle;\n",
       "    }\n",
       "\n",
       "    .dataframe tbody tr th {\n",
       "        vertical-align: top;\n",
       "    }\n",
       "\n",
       "    .dataframe thead th {\n",
       "        text-align: right;\n",
       "    }\n",
       "</style>\n",
       "<table border=\"1\" class=\"dataframe\">\n",
       "  <thead>\n",
       "    <tr style=\"text-align: right;\">\n",
       "      <th>Status</th>\n",
       "      <th>No</th>\n",
       "      <th>Yes</th>\n",
       "    </tr>\n",
       "    <tr>\n",
       "      <th>Text</th>\n",
       "      <th></th>\n",
       "      <th></th>\n",
       "    </tr>\n",
       "  </thead>\n",
       "  <tbody>\n",
       "    <tr>\n",
       "      <th>0</th>\n",
       "      <td>0.832732</td>\n",
       "      <td>0.167268</td>\n",
       "    </tr>\n",
       "    <tr>\n",
       "      <th>1</th>\n",
       "      <td>0.723332</td>\n",
       "      <td>0.276668</td>\n",
       "    </tr>\n",
       "  </tbody>\n",
       "</table>\n",
       "</div>"
      ],
      "text/plain": [
       "Status        No       Yes\n",
       "Text                      \n",
       "0       0.832732  0.167268\n",
       "1       0.723332  0.276668"
      ]
     },
     "execution_count": 19,
     "metadata": {},
     "output_type": "execute_result"
    }
   ],
   "source": [
    "# Show percentages looking at rows\n",
    "pd.crosstab(noshows_df[\"Text\"], noshows_df[\"Status\"], normalize='index')\n"
   ]
  },
  {
   "cell_type": "code",
   "execution_count": 20,
   "metadata": {},
   "outputs": [
    {
     "data": {
      "text/html": [
       "<div>\n",
       "<style scoped>\n",
       "    .dataframe tbody tr th:only-of-type {\n",
       "        vertical-align: middle;\n",
       "    }\n",
       "\n",
       "    .dataframe tbody tr th {\n",
       "        vertical-align: top;\n",
       "    }\n",
       "\n",
       "    .dataframe thead th {\n",
       "        text-align: right;\n",
       "    }\n",
       "</style>\n",
       "<table border=\"1\" class=\"dataframe\">\n",
       "  <thead>\n",
       "    <tr style=\"text-align: right;\">\n",
       "      <th>Status</th>\n",
       "      <th>No</th>\n",
       "      <th>Yes</th>\n",
       "    </tr>\n",
       "    <tr>\n",
       "      <th>Text</th>\n",
       "      <th></th>\n",
       "      <th></th>\n",
       "    </tr>\n",
       "  </thead>\n",
       "  <tbody>\n",
       "    <tr>\n",
       "      <th>0</th>\n",
       "      <td>0.706737</td>\n",
       "      <td>0.558611</td>\n",
       "    </tr>\n",
       "    <tr>\n",
       "      <th>1</th>\n",
       "      <td>0.293263</td>\n",
       "      <td>0.441389</td>\n",
       "    </tr>\n",
       "  </tbody>\n",
       "</table>\n",
       "</div>"
      ],
      "text/plain": [
       "Status        No       Yes\n",
       "Text                      \n",
       "0       0.706737  0.558611\n",
       "1       0.293263  0.441389"
      ]
     },
     "execution_count": 20,
     "metadata": {},
     "output_type": "execute_result"
    }
   ],
   "source": [
    "# Show percentages looking at columns\n",
    "pd.crosstab(noshows_df[\"Text\"], noshows_df[\"Status\"], normalize='columns')\n"
   ]
  },
  {
   "cell_type": "code",
   "execution_count": 21,
   "metadata": {},
   "outputs": [
    {
     "data": {
      "text/plain": [
       "Text  Status\n",
       "0     No        60284\n",
       "      Yes       12109\n",
       "1     No        25015\n",
       "      Yes        9568\n",
       "dtype: int64"
      ]
     },
     "execution_count": 21,
     "metadata": {},
     "output_type": "execute_result"
    }
   ],
   "source": [
    "# Make a Panda Series of the groupby data\n",
    "grouped = noshows_df.groupby(['Text', 'Status']).size()\n",
    "grouped\n"
   ]
  },
  {
   "cell_type": "code",
   "execution_count": 22,
   "metadata": {},
   "outputs": [
    {
     "data": {
      "image/png": "[encoded data removed]",
      "text/plain": [
       "<Figure size 432x288 with 1 Axes>"
      ]
     },
     "metadata": {},
     "output_type": "display_data"
    }
   ],
   "source": [
    "# Barplot visualization of the data\n",
    "\n",
    "my_plot = grouped.unstack().plot(kind='bar',stacked=True,title=\"By Text, Status\")\n",
    "my_plot.set_xlabel(\"Status\")\n",
    "plt.xticks(rotation=0)\n",
    "my_plot.set_ylabel(\"Text\")\n",
    "plt.show()\n"
   ]
  },
  {
   "cell_type": "markdown",
   "metadata": {},
   "source": [
    "# Recap of Analysis (2) Does texting decrease no-shows? \n",
    "\n",
    "The answer appears no, texting does not decrease the number of no-shows. From the plot, the percentages look very similar for the number of no-shows of people who received a text and people who did not received the text. \n",
    "\n",
    "In addition, the precetnage actaully goes up for no-shows when texting.\n",
    "\n",
    "Finally, about 68% percent did not receive a text. This would be interesting to explore further of why? Is it because majority of people do not have cell phones? The hospital does not have good or detail information on their patients?\n"
   ]
  },
  {
   "cell_type": "code",
   "execution_count": null,
   "metadata": {},
   "outputs": [],
   "source": []
  },
  {
   "cell_type": "markdown",
   "metadata": {},
   "source": [
    "# Analysis (3) Who visits the the doctor more (men or women)?"
   ]
  },
  {
   "cell_type": "code",
   "execution_count": 23,
   "metadata": {},
   "outputs": [
    {
     "data": {
      "text/plain": [
       "Gender\n",
       "F    70109\n",
       "M    36867\n",
       "dtype: int64"
      ]
     },
     "execution_count": 23,
     "metadata": {},
     "output_type": "execute_result"
    }
   ],
   "source": [
    "# Look at the number of male and female patients\n",
    "noshows_df.groupby('Gender').size()\n"
   ]
  },
  {
   "cell_type": "code",
   "execution_count": 24,
   "metadata": {},
   "outputs": [
    {
     "data": {
      "text/plain": [
       "Gender  Status\n",
       "F       No        55837\n",
       "        Yes       14272\n",
       "M       No        29462\n",
       "        Yes        7405\n",
       "dtype: int64"
      ]
     },
     "execution_count": 24,
     "metadata": {},
     "output_type": "execute_result"
    }
   ],
   "source": [
    "# Look at gender and no-shows\n",
    "noshows_df.groupby(['Gender', 'Status']).size()\n"
   ]
  },
  {
   "cell_type": "code",
   "execution_count": 25,
   "metadata": {},
   "outputs": [
    {
     "data": {
      "image/png": "[encoded data removed]",
      "text/plain": [
       "<Figure size 432x288 with 1 Axes>"
      ]
     },
     "metadata": {},
     "output_type": "display_data"
    }
   ],
   "source": [
    "# Visualization of males and females that went to their appointments by age\n",
    "df = noshows_df[noshows_df.Status == 'No']\n",
    "range_df = pd.DataFrame()\n",
    "range_df['Age'] = range(100)\n",
    "men = range_df.Age.apply(lambda x: len(df[(df.Age == x) & (df.Gender == 'M')]))\n",
    "women = range_df.Age.apply(lambda x: len(df[(df.Age == x) & (df.Gender == 'F')]))\n",
    "plt.plot(range(100),men, 'b')\n",
    "plt.plot(range(100),women, color = 'r')\n",
    "plt.legend(['M','F'])\n",
    "plt.xlabel('Age')\n",
    "plt.ylabel('Count')\n",
    "plt.title('Who visits the doctor more - men or women?')\n",
    "plt.show()\n"
   ]
  },
  {
   "cell_type": "markdown",
   "metadata": {},
   "source": [
    "# Recap of Analysis (3) Who visits the the doctor more (men or women)?\n",
    "\n",
    "Men and women visit at the same rate until the age of 14/15. However, after this age, women almost double the doctor visits to men."
   ]
  },
  {
   "cell_type": "code",
   "execution_count": null,
   "metadata": {},
   "outputs": [],
   "source": []
  },
  {
   "cell_type": "markdown",
   "metadata": {},
   "source": [
    "# Analysis (4) Are Scholarship (Brazilian welfare) patients higher no-shows?"
   ]
  },
  {
   "cell_type": "code",
   "execution_count": 26,
   "metadata": {},
   "outputs": [
    {
     "data": {
      "text/plain": [
       "Scholarship\n",
       "0    96167\n",
       "1    10809\n",
       "dtype: int64"
      ]
     },
     "execution_count": 26,
     "metadata": {},
     "output_type": "execute_result"
    }
   ],
   "source": [
    "# Look at the number of welfare patients\n",
    "noshows_df.groupby('Scholarship').size()\n"
   ]
  },
  {
   "cell_type": "code",
   "execution_count": 27,
   "metadata": {},
   "outputs": [
    {
     "data": {
      "text/plain": [
       "Scholarship  Status\n",
       "0            No        77061\n",
       "             Yes       19106\n",
       "1            No         8238\n",
       "             Yes        2571\n",
       "dtype: int64"
      ]
     },
     "execution_count": 27,
     "metadata": {},
     "output_type": "execute_result"
    }
   ],
   "source": [
    "# Look at thee nuumber of welfare patients and the number of no-shows\n",
    "noshows_df.groupby(['Scholarship', 'Status']).size()\n"
   ]
  },
  {
   "cell_type": "code",
   "execution_count": 28,
   "metadata": {},
   "outputs": [
    {
     "data": {
      "text/html": [
       "<div>\n",
       "<style scoped>\n",
       "    .dataframe tbody tr th:only-of-type {\n",
       "        vertical-align: middle;\n",
       "    }\n",
       "\n",
       "    .dataframe tbody tr th {\n",
       "        vertical-align: top;\n",
       "    }\n",
       "\n",
       "    .dataframe thead th {\n",
       "        text-align: right;\n",
       "    }\n",
       "</style>\n",
       "<table border=\"1\" class=\"dataframe\">\n",
       "  <thead>\n",
       "    <tr style=\"text-align: right;\">\n",
       "      <th>Status</th>\n",
       "      <th>No</th>\n",
       "      <th>Yes</th>\n",
       "      <th>All</th>\n",
       "    </tr>\n",
       "    <tr>\n",
       "      <th>Scholarship</th>\n",
       "      <th></th>\n",
       "      <th></th>\n",
       "      <th></th>\n",
       "    </tr>\n",
       "  </thead>\n",
       "  <tbody>\n",
       "    <tr>\n",
       "      <th>0</th>\n",
       "      <td>77061</td>\n",
       "      <td>19106</td>\n",
       "      <td>96167</td>\n",
       "    </tr>\n",
       "    <tr>\n",
       "      <th>1</th>\n",
       "      <td>8238</td>\n",
       "      <td>2571</td>\n",
       "      <td>10809</td>\n",
       "    </tr>\n",
       "    <tr>\n",
       "      <th>All</th>\n",
       "      <td>85299</td>\n",
       "      <td>21677</td>\n",
       "      <td>106976</td>\n",
       "    </tr>\n",
       "  </tbody>\n",
       "</table>\n",
       "</div>"
      ],
      "text/plain": [
       "Status          No    Yes     All\n",
       "Scholarship                      \n",
       "0            77061  19106   96167\n",
       "1             8238   2571   10809\n",
       "All          85299  21677  106976"
      ]
     },
     "execution_count": 28,
     "metadata": {},
     "output_type": "execute_result"
    }
   ],
   "source": [
    "# Get an initial feel of the data with crosstab\n",
    "pd.crosstab(noshows_df[\"Scholarship\"], noshows_df[\"Status\"],margins=True)\n"
   ]
  },
  {
   "cell_type": "code",
   "execution_count": 29,
   "metadata": {},
   "outputs": [
    {
     "data": {
      "text/html": [
       "<div>\n",
       "<style scoped>\n",
       "    .dataframe tbody tr th:only-of-type {\n",
       "        vertical-align: middle;\n",
       "    }\n",
       "\n",
       "    .dataframe tbody tr th {\n",
       "        vertical-align: top;\n",
       "    }\n",
       "\n",
       "    .dataframe thead th {\n",
       "        text-align: right;\n",
       "    }\n",
       "</style>\n",
       "<table border=\"1\" class=\"dataframe\">\n",
       "  <thead>\n",
       "    <tr style=\"text-align: right;\">\n",
       "      <th>Status</th>\n",
       "      <th>No</th>\n",
       "      <th>Yes</th>\n",
       "    </tr>\n",
       "    <tr>\n",
       "      <th>Scholarship</th>\n",
       "      <th></th>\n",
       "      <th></th>\n",
       "    </tr>\n",
       "  </thead>\n",
       "  <tbody>\n",
       "    <tr>\n",
       "      <th>0</th>\n",
       "      <td>0.801325</td>\n",
       "      <td>0.198675</td>\n",
       "    </tr>\n",
       "    <tr>\n",
       "      <th>1</th>\n",
       "      <td>0.762143</td>\n",
       "      <td>0.237857</td>\n",
       "    </tr>\n",
       "  </tbody>\n",
       "</table>\n",
       "</div>"
      ],
      "text/plain": [
       "Status             No       Yes\n",
       "Scholarship                    \n",
       "0            0.801325  0.198675\n",
       "1            0.762143  0.237857"
      ]
     },
     "execution_count": 29,
     "metadata": {},
     "output_type": "execute_result"
    }
   ],
   "source": [
    "# Show percentages looking at rows\n",
    "pd.crosstab(noshows_df[\"Scholarship\"], noshows_df[\"Status\"], normalize='index')\n"
   ]
  },
  {
   "cell_type": "code",
   "execution_count": 30,
   "metadata": {},
   "outputs": [
    {
     "data": {
      "text/plain": [
       "Scholarship  Status\n",
       "0            No        77061\n",
       "             Yes       19106\n",
       "1            No         8238\n",
       "             Yes        2571\n",
       "dtype: int64"
      ]
     },
     "execution_count": 30,
     "metadata": {},
     "output_type": "execute_result"
    }
   ],
   "source": [
    "# Make a Panda Series of the groupby data\n",
    "grouped = noshows_df.groupby(['Scholarship', 'Status']).size()\n",
    "grouped\n"
   ]
  },
  {
   "cell_type": "code",
   "execution_count": 31,
   "metadata": {
    "scrolled": true
   },
   "outputs": [
    {
     "data": {
      "image/png": "[encoded data removed]",
      "text/plain": [
       "<Figure size 432x432 with 1 Axes>"
      ]
     },
     "metadata": {},
     "output_type": "display_data"
    }
   ],
   "source": [
    "# Visualization of the welfare data and no-shows\n",
    "\n",
    "my_plot = grouped.unstack().plot(kind='bar',stacked=True,title=\"By Scholarship, Status\")\n",
    "my_plot.set_xlabel(\"Status\")\n",
    "plt.xticks(rotation=0)\n",
    "my_plot.set_ylabel(\"Scholarship\")\n",
    "fig = plt.gcf()\n",
    "fig.set_size_inches(6,6)\n",
    "plt.show()\n"
   ]
  },
  {
   "cell_type": "code",
   "execution_count": 32,
   "metadata": {},
   "outputs": [
    {
     "data": {
      "image/png": "[encoded data removed]",
      "text/plain": [
       "<Figure size 576x576 with 1 Axes>"
      ]
     },
     "metadata": {},
     "output_type": "display_data"
    }
   ],
   "source": [
    "# Pie Chart visualization \n",
    "grouped = noshows_df.groupby(['Scholarship', 'Status']).size()\n",
    "labels = [\"No Schoalrship - Showed Up\", \"No Scholarship - No Show\", \"Schoalrship - Showed Up\", \"Scholarship - No Show\"]\n",
    "\n",
    "plt.pie(grouped, labels = labels, autopct='%1.1f%%')\n",
    "#fig.set_title(\"Hello\")\n",
    "fig = plt.gcf()\n",
    "fig.set_size_inches(8,8)\n",
    "plt.title(\"Percentages of Welfare and Not Welfare Patients No-shows and Shows\")\n",
    "plt.show()\n",
    "\n",
    "\n",
    "#my_plot = noshows_df['Status'].value_counts().plot(kind='bar',title=\"Counts of No-shows (Yes) and Shows (No)\")\n",
    "#my_plot.set_xlabel(\"Status\")\n",
    "#plt.xticks(rotation=0)\n",
    "#my_plot.set_ylabel(\"Count\")\n",
    "#plt.show()"
   ]
  },
  {
   "cell_type": "markdown",
   "metadata": {},
   "source": [
    "# Recap of Analysis (4) Are Scholarship (Brazilian welfare) patients higher no-shows?\n",
    "\n",
    "It appears welfare patients have a little higher percentage (4% => 24% to 20%) of no shows compared to non-welfare patients.\n",
    "In addition, the pie chart shows that welfare no-shows made a up a very small percentage of no-shows. \n",
    "\n",
    "Finally, welfare patients made up about 10% of the total patients."
   ]
  },
  {
   "cell_type": "markdown",
   "metadata": {},
   "source": []
  },
  {
   "cell_type": "markdown",
   "metadata": {},
   "source": [
    "# Analysis (5) Appointments Scheduled by Day of Week"
   ]
  },
  {
   "cell_type": "code",
   "execution_count": 33,
   "metadata": {},
   "outputs": [
    {
     "data": {
      "text/plain": [
       "day_of_week\n",
       "Friday       18372\n",
       "Monday       22242\n",
       "Saturday        22\n",
       "Thursday     17518\n",
       "Tuesday      25278\n",
       "Wednesday    23544\n",
       "dtype: int64"
      ]
     },
     "execution_count": 33,
     "metadata": {},
     "output_type": "execute_result"
    }
   ],
   "source": [
    "# Gget counts of appointments by day of week\n",
    "grouped = noshows_df.groupby(['day_of_week']).size()\n",
    "grouped\n"
   ]
  },
  {
   "cell_type": "code",
   "execution_count": 34,
   "metadata": {},
   "outputs": [
    {
     "data": {
      "image/png": "[encoded data removed]",
      "text/plain": [
       "<Figure size 432x288 with 1 Axes>"
      ]
     },
     "metadata": {},
     "output_type": "display_data"
    }
   ],
   "source": [
    "# Bar plot by day of week\n",
    "my_plot = noshows_df['day_of_week'].value_counts().plot(kind='bar',title=\"Count of Appointments by Day\")\n",
    "my_plot.set_xlabel(\"Day of Week\")\n",
    "my_plot.set_ylabel(\"Count\")\n",
    "plt.show()\n"
   ]
  },
  {
   "cell_type": "markdown",
   "metadata": {},
   "source": [
    "#  Recap of Analysis (5) Appointments Scheduled by Day of Week\n",
    "\n",
    "Tuesday had the most scheduled appointments and Thursday had the lowest number of appointments during the week.\n",
    "There appears to be no appointments on Sundays and an extremely low number of appointments on Saturdays. \n"
   ]
  },
  {
   "cell_type": "code",
   "execution_count": null,
   "metadata": {},
   "outputs": [],
   "source": [
    "\n"
   ]
  },
  {
   "cell_type": "markdown",
   "metadata": {},
   "source": [
    "# (4) Conclusions\n",
    "\n",
    "<b>Data Quality</b>\n",
    "\n",
    "The data quality was not that bad. The biggest data issue I saw was in the Age data where there was negative numbers, zeros, and some very high numbers like 102 and 115. I did remove 3,551 of these records from the data set.\n",
    "\n",
    "Finally, there were several column name typos that I fixed.\n",
    "\n",
    "<b>Findings</b>\n",
    "\n",
    "I was surprised in each analysis!\n",
    "\n",
    "In the age distribution, my initial \"guess\" was that there would be more patients in the 66-99 category. It usually seems as you get older there is more of a need to visit the doctor. That is why you to do analysis on the data! :-)\n",
    "\n",
    "I really thought texting would help decrease no-shows. However, almost 70% percent of the patients did not receive the text. I still think this is worth trying if possible and if it is not too costly.\n",
    "\n",
    "It was extremely interesting to see how much more women visited the doctor compared to men. Why is that? Is it because women are better about getting checked out? Is it because men are more scared of doctors? LOL :-) Is it because women go through more changes in their bodies like pregnancy?\n",
    "\n",
    "For the welfare and no-shows status, I thought before doing the analysis, welfare patients would have a higher percentage of no-shows. Is that me applying a stereotype? Was it such a low percentage (4%) because only 10% of the data set were on welfare?\n",
    "\n",
    "Finally, the day of week and number of appointments surprised me in the fact there were 22 appointments on Saturday.\n",
    "Why? Are these emergencies? Other than this, it did not shock me that the beginning of the week (Monday, Tuesday, Wednesday) had more appointments than the end of the week (Thursday, Friday).\n",
    "\n",
    "<b>The more you think and look at the data, the more questions you have! That is why data analysis is so much fun!</b>\n",
    "\n"
   ]
  },
  {
   "cell_type": "code",
   "execution_count": null,
   "metadata": {},
   "outputs": [],
   "source": []
  },
  {
   "cell_type": "markdown",
   "metadata": {},
   "source": [
    "# (5) RESOURCES"
   ]
  },
  {
   "cell_type": "markdown",
   "metadata": {},
   "source": [
    "# BOOK RESOURCES\n",
    "\n",
    "(1) McKinney, Wes. (2018). Python for Data Analysis. Sebastopol, CA. O'Reilly Media. Inc.\n",
    "<br>\n",
    "(2) VanderPlas, Jake. (2017 Python Data Science Handbooks. Sebastopol, CA. O'Reilly Media. Inc.\n"
   ]
  },
  {
   "cell_type": "markdown",
   "metadata": {},
   "source": [
    "# TRAINING  RESOURCES\n",
    "\n",
    "(1) Udacity, Intro to Programming, https://www.udacity.com/course/intro-to-programming-nanodegree--nd000\n",
    "<br>\n",
    "(2) Udemy, Python A-Z™: Python For Data Science With Real Exercises!, https://www.udemy.com/python-coding/\n"
   ]
  },
  {
   "cell_type": "markdown",
   "metadata": {},
   "source": [
    "# WEB RESOURCES\n",
    "\n",
    "(01)  https://www.abgoswam.wordpress.com/2015/12/01/pandas-groupby-using-2-columns-visualize-using-bar-plot/\n",
    "<br>\n",
    "(02)  https://www.analyticsvidhya.com/blog/2016/01/12-pandas-techniques-python-data-manipulation/\n",
    "<br>\n",
    "(03)  https://www.kaggle.com/drgilermo/gender-based-patterns\n",
    "<br>\n",
    "(04)  https://www.kaggle.com/jfgobin/basic-visualisation-and-prediction\n",
    "<br>\n",
    "(05)  https://www.kaggle.com/residentmario/univariate-plotting-with-pandas\n",
    "<br>\n",
    "(06)  https://www.kaggle.com/somrikbanerjee/predicting-show-up-no-show\n",
    "<br>\n",
    "(07)  https://www.kaggle.com/thestats/analyzing-the-no-show\n",
    "<br>\n",
    "(08)  https://miamioh.instructure.com/courses/38817/pages/creating-graphical-displays\n",
    "<br>\n",
    "(09)  https://stackoverflow.com\n",
    "<br>\n",
    "(10) https://stackoverflow.com/questions/31632637/label-axes-on-seaborn-barplot\n"
   ]
  },
  {
   "cell_type": "code",
   "execution_count": null,
   "metadata": {},
   "outputs": [],
   "source": []
  }
 ],
 "metadata": {
  "kernelspec": {
   "display_name": "Python [conda env:ipykernel_py2]",
   "language": "python",
   "name": "conda-env-ipykernel_py2-py"
  },
  "language_info": {
   "codemirror_mode": {
    "name": "ipython",
    "version": 2
   },
   "file_extension": ".py",
   "mimetype": "text/x-python",
   "name": "python",
   "nbconvert_exporter": "python",
   "pygments_lexer": "ipython2",
   "version": "2.7.14"
  }
 },
 "nbformat": 4,
 "nbformat_minor": 2
}
